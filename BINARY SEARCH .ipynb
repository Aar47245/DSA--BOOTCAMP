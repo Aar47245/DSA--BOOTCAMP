{
 "cells": [
  {
   "cell_type": "code",
   "execution_count": null,
   "id": "484cc41c-fb7a-494b-aeea-6414d6292e67",
   "metadata": {},
   "outputs": [],
   "source": [
    "def binary_search(arr, target):\n",
    "    # Set the initial low and high bounds\n",
    "    low = 0\n",
    "    high = len(arr) - 1\n",
    "\n",
    "    while low <= high:\n",
    "        # Find the middle index\n",
    "        mid = (low + high) // 2\n",
    "\n",
    "        # Check if target is present at mid\n",
    "        if arr[mid] == target:\n",
    "            return mid\n",
    "        # If target is greater, ignore the left half\n",
    "        elif arr[mid] < target:\n",
    "            low = mid + 1\n",
    "        # If target is smaller, ignore the right half\n",
    "        else:\n",
    "            high = mid - 1\n",
    "\n",
    "    # Return -1 if the target is not found\n",
    "    return -1\n",
    "\n",
    "\n",
    "# Example usage\n",
    "arr = [10, 15, 23, 45, 70, 85]\n",
    "target = 45\n",
    "\n",
    "result = binary_search(arr, target)\n",
    "\n",
    "if result != -1:\n",
    "    print(f\"Element found at index: {result}\")\n",
    "else:\n",
    "    print(\"Element not found\")\n"
   ]
  }
 ],
 "metadata": {
  "kernelspec": {
   "display_name": "Python 3 (ipykernel)",
   "language": "python",
   "name": "python3"
  },
  "language_info": {
   "codemirror_mode": {
    "name": "ipython",
    "version": 3
   },
   "file_extension": ".py",
   "mimetype": "text/x-python",
   "name": "python",
   "nbconvert_exporter": "python",
   "pygments_lexer": "ipython3",
   "version": "3.12.5"
  }
 },
 "nbformat": 4,
 "nbformat_minor": 5
}
