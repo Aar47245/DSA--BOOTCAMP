{
 "cells": [
  {
   "cell_type": "code",
   "execution_count": null,
   "id": "4497c711-8b0c-4df9-9b13-a1feaaf6b2fe",
   "metadata": {},
   "outputs": [],
   "source": [
    "import heapq  # To use a priority queue (min heap)\n",
    "\n",
    "def dijkstra(graph, start):\n",
    "    # Priority queue to store (distance, node) pairs\n",
    "    priority_queue = [(0, start)]\n",
    "    # Dictionary to store the shortest distances from the start node to each node\n",
    "    distances = {node: float('infinity') for node in graph}\n",
    "    distances[start] = 0\n",
    "    # Set to store visited nodes\n",
    "    visited = set()\n",
    "\n",
    "    while priority_queue:\n",
    "        # Extract the node with the smallest distance\n",
    "        current_distance, current_node = heapq.heappop(priority_queue)\n",
    "\n",
    "        # If this node has already been visited, skip it\n",
    "        if current_node in visited:\n",
    "            continue\n",
    "\n",
    "        # Mark the node as visited\n",
    "        visited.add(current_node)\n",
    "\n",
    "        # Explore the neighbors\n",
    "        for neighbor, weight in graph[current_node].items():\n",
    "            distance = current_distance + weight\n",
    "\n",
    "            # Only consider this path if it's better\n",
    "            if distance < distances[neighbor]:\n",
    "                distances[neighbor] = distance\n",
    "                heapq.heappush(priority_queue, (distance, neighbor))\n",
    "\n",
    "    return distances\n",
    "\n",
    "\n",
    "# Example usage:\n",
    "graph = {\n",
    "    'A': {'B': 1, 'C': 4},\n",
    "    'B': {'A': 1, 'C': 2, 'D': 5},\n",
    "    'C': {'A': 4, 'B': 2, 'D': 1},\n",
    "    'D': {'B': 5, 'C': 1}\n",
    "}\n",
    "\n",
    "start_node = 'A'\n",
    "distances = dijkstra(graph, start_node)\n",
    "\n",
    "print(f\"Shortest distances from {start_node}:\")\n",
    "for node, distance in distances.items():\n",
    "    print(f\"Distance to {node}: {distance}\")\n"
   ]
  }
 ],
 "metadata": {
  "kernelspec": {
   "display_name": "Python 3 (ipykernel)",
   "language": "python",
   "name": "python3"
  },
  "language_info": {
   "codemirror_mode": {
    "name": "ipython",
    "version": 3
   },
   "file_extension": ".py",
   "mimetype": "text/x-python",
   "name": "python",
   "nbconvert_exporter": "python",
   "pygments_lexer": "ipython3",
   "version": "3.12.5"
  }
 },
 "nbformat": 4,
 "nbformat_minor": 5
}
