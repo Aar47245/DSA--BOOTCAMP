{
 "cells": [
  {
   "cell_type": "code",
   "execution_count": 1,
   "id": "079b50bf-f384-4351-aa6c-e46a6fbb3208",
   "metadata": {},
   "outputs": [
    {
     "name": "stdout",
     "output_type": "stream",
     "text": [
      "Element found at index: 3\n"
     ]
    }
   ],
   "source": [
    "def linear_search(arr, target):\n",
    "    # Traverse the entire array\n",
    "    for index in range(len(arr)):\n",
    "        # If the element is found, return the index\n",
    "        if arr[index] == target:\n",
    "            return index\n",
    "    # Return -1 if the element is not found\n",
    "    return -1\n",
    "\n",
    "\n",
    "# Example usage\n",
    "arr = [10, 23, 45, 70, 11, 15]\n",
    "target = 70\n",
    "\n",
    "result = linear_search(arr, target)\n",
    "\n",
    "if result != -1:\n",
    "    print(f\"Element found at index: {result}\")\n",
    "else:\n",
    "    print(\"Element not found\")\n"
   ]
  },
  {
   "cell_type": "code",
   "execution_count": null,
   "id": "0a9c1c57-0728-47a6-9bf7-77c7c1be09d0",
   "metadata": {},
   "outputs": [],
   "source": []
  }
 ],
 "metadata": {
  "kernelspec": {
   "display_name": "Python 3 (ipykernel)",
   "language": "python",
   "name": "python3"
  },
  "language_info": {
   "codemirror_mode": {
    "name": "ipython",
    "version": 3
   },
   "file_extension": ".py",
   "mimetype": "text/x-python",
   "name": "python",
   "nbconvert_exporter": "python",
   "pygments_lexer": "ipython3",
   "version": "3.12.5"
  }
 },
 "nbformat": 4,
 "nbformat_minor": 5
}
